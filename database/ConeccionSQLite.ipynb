{
 "cells": [
  {
   "cell_type": "code",
   "execution_count": null,
   "id": "e3368781",
   "metadata": {},
   "outputs": [
    {
     "name": "stdout",
     "output_type": "stream",
     "text": [
      "Requirement already satisfied: sqlalchemy in c:\\users\\dell latitude\\appdata\\local\\programs\\python\\python313\\lib\\site-packages (2.0.41)\n",
      "Requirement already satisfied: pandas in c:\\users\\dell latitude\\appdata\\local\\programs\\python\\python313\\lib\\site-packages (2.2.3)\n",
      "Requirement already satisfied: greenlet>=1 in c:\\users\\dell latitude\\appdata\\local\\programs\\python\\python313\\lib\\site-packages (from sqlalchemy) (3.2.2)\n",
      "Requirement already satisfied: typing-extensions>=4.6.0 in c:\\users\\dell latitude\\appdata\\local\\programs\\python\\python313\\lib\\site-packages (from sqlalchemy) (4.13.2)\n",
      "Requirement already satisfied: numpy>=1.26.0 in c:\\users\\dell latitude\\appdata\\local\\programs\\python\\python313\\lib\\site-packages (from pandas) (2.2.5)\n",
      "Requirement already satisfied: python-dateutil>=2.8.2 in c:\\users\\dell latitude\\appdata\\local\\programs\\python\\python313\\lib\\site-packages (from pandas) (2.9.0.post0)\n",
      "Requirement already satisfied: pytz>=2020.1 in c:\\users\\dell latitude\\appdata\\local\\programs\\python\\python313\\lib\\site-packages (from pandas) (2025.2)\n",
      "Requirement already satisfied: tzdata>=2022.7 in c:\\users\\dell latitude\\appdata\\local\\programs\\python\\python313\\lib\\site-packages (from pandas) (2025.2)\n",
      "Requirement already satisfied: six>=1.5 in c:\\users\\dell latitude\\appdata\\local\\programs\\python\\python313\\lib\\site-packages (from python-dateutil>=2.8.2->pandas) (1.17.0)\n"
     ]
    }
   ],
   "source": [
    "#!pip install sqlalchemy pandas"
   ]
  },
  {
   "cell_type": "code",
   "execution_count": 17,
   "id": "e1436565",
   "metadata": {},
   "outputs": [
    {
     "name": "stdout",
     "output_type": "stream",
     "text": [
      "Conectado correctamente a SQLite.\n"
     ]
    }
   ],
   "source": [
    "import pandas as pd\n",
    "from sqlalchemy import create_engine\n",
    "# Create a SQLite engine\n",
    "engine = create_engine('sqlite:///C:/ProyectAnalisis2025A/extract/Actividades.db')\n",
    "conn = engine.connect()\n",
    "print(\"Conectado correctamente a SQLite.\")\n",
    "conn.close()"
   ]
  },
  {
   "cell_type": "code",
   "execution_count": 14,
   "id": "94fa41de",
   "metadata": {},
   "outputs": [],
   "source": [
    "import sqlite3\n",
    "import pandas as pd"
   ]
  },
  {
   "cell_type": "code",
   "execution_count": null,
   "id": "cc895159",
   "metadata": {},
   "outputs": [
    {
     "name": "stdout",
     "output_type": "stream",
     "text": [
      "Tablas disponibles: ['activity_clean']\n",
      "✅ Datos exportados exitosamente a salida.json\n"
     ]
    }
   ],
   "source": [
    "# Ruta del archivo SQLite\n",
    "ruta_sqlite = \"C:/ProyectAnalisis2025A/extract/Actividades.db\"\n",
    "conn = sqlite3.connect(ruta_sqlite)\n",
    "\n",
    "# Ver todas las tablas\n",
    "tablas = pd.read_sql_query(\"SELECT name FROM sqlite_master WHERE type='table';\", conn)\n",
    "print(\"Tablas disponibles:\", tablas[\"name\"].tolist())\n",
    "# Leer datos de una tabla específica\n",
    "nombre_tabla = \"activity_clean\"  # cambia por el nombre real\n",
    "df = pd.read_sql_query(f\"SELECT * FROM {nombre_tabla}\", conn)\n",
    "\n",
    "# Convertir a JSON\n",
    "json_resultado = df.to_json(orient=\"records\", indent=4, force_ascii=False)\n",
    "\n",
    "# Guardar en un archivo .json\n",
    "ruta_salida = \"C:/ProyectAnalisis2025A/extract/Actividades.json\"\n",
    "with open(ruta_salida, \"w\", encoding=\"utf-8\") as archivo:\n",
    "    archivo.write(json_resultado)\n",
    "\n",
    "print(\"Datos exportados exitosamente a salida.json\")\n",
    "\n",
    "# Cerrar conexión\n",
    "conn.close()\n"
   ]
  },
  {
   "cell_type": "code",
   "execution_count": 37,
   "id": "82e02ddb",
   "metadata": {},
   "outputs": [
    {
     "name": "stdout",
     "output_type": "stream",
     "text": [
      "Conectado correctamente a SQLite.\n"
     ]
    }
   ],
   "source": [
    "engine1 = create_engine('sqlite:///C:/ProyectAnalisis2025A/extract/Reviews1.db')\n",
    "conn1 = engine1.connect()\n",
    "print(\"Conectado correctamente a SQLite.\")\n",
    "conn1.close()"
   ]
  },
  {
   "cell_type": "code",
   "execution_count": null,
   "id": "0daccd5a",
   "metadata": {},
   "outputs": [
    {
     "name": "stdout",
     "output_type": "stream",
     "text": [
      "Tablas disponibles: ['Reviews_clean']\n",
      "✅ Datos exportados exitosamente a C:/ProyectAnalisis2025A/extract/Reviews1.json\n"
     ]
    }
   ],
   "source": [
    "ruta_sqlite1 = \"C:/ProyectAnalisis2025A/extract/Reviews1.db\"\n",
    "conn1 = sqlite3.connect(ruta_sqlite1)\n",
    "\n",
    "# Ver todas las tablas\n",
    "tablas1 = pd.read_sql_query(\"SELECT name FROM sqlite_master WHERE type='table';\", conn1)\n",
    "print(\"Tablas disponibles:\", tablas1[\"name\"].tolist())\n",
    "\n",
    "# Leer datos de una tabla específica\n",
    "nombre_tabla1 = \"Reviews_clean\"\n",
    "df1 = pd.read_sql_query(f\"SELECT * FROM {nombre_tabla1}\", conn1)\n",
    "\n",
    "# Convertir a JSON\n",
    "json_resultado1 = df1.to_json(orient=\"records\", indent=4, force_ascii=False)\n",
    "\n",
    "# Guardar en un archivo .json\n",
    "ruta_salida1 = \"C:/ProyectAnalisis2025A/extract/Reviews1.json\"\n",
    "with open(ruta_salida1, \"w\", encoding=\"utf-8\") as archivo:\n",
    "    archivo.write(json_resultado1)\n",
    "\n",
    "print(\"Datos exportados exitosamente a\", ruta_salida1)\n",
    "\n",
    "# Cerrar conexión\n",
    "conn1.close()\n"
   ]
  }
 ],
 "metadata": {
  "kernelspec": {
   "display_name": "Python 3",
   "language": "python",
   "name": "python3"
  },
  "language_info": {
   "codemirror_mode": {
    "name": "ipython",
    "version": 3
   },
   "file_extension": ".py",
   "mimetype": "text/x-python",
   "name": "python",
   "nbconvert_exporter": "python",
   "pygments_lexer": "ipython3",
   "version": "3.13.5"
  }
 },
 "nbformat": 4,
 "nbformat_minor": 5
}
