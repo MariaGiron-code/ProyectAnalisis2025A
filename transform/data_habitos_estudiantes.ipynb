{
 "cells": [
  {
   "cell_type": "code",
   "execution_count": 2,
   "id": "aa872cf6",
   "metadata": {},
   "outputs": [
    {
     "name": "stdout",
     "output_type": "stream",
     "text": [
      "Columnas: ['College_ID', 'IQ', 'Prev_Sem_Result', 'CGPA', 'Academic_Performance', 'Internship_Experience', 'Extra_Curricular_Score', 'Communication_Skills', 'Projects_Completed', 'Placement']\n",
      "Primeras filas:\n",
      "   College_ID   IQ  Prev_Sem_Result  CGPA  Academic_Performance  \\\n",
      "0    CLG0030  107             6.61  6.28                     8   \n",
      "1    CLG0061   97             5.52  5.37                     8   \n",
      "2    CLG0036  109             5.36  5.83                     9   \n",
      "3    CLG0055  122             5.47  5.75                     6   \n",
      "4    CLG0004   96             7.91  7.69                     7   \n",
      "\n",
      "  Internship_Experience  Extra_Curricular_Score  Communication_Skills  \\\n",
      "0                    No                       8                     8   \n",
      "1                    No                       7                     8   \n",
      "2                    No                       3                     1   \n",
      "3                   Yes                       1                     6   \n",
      "4                    No                       8                    10   \n",
      "\n",
      "   Projects_Completed Placement  \n",
      "0                   4        No  \n",
      "1                   0        No  \n",
      "2                   1        No  \n",
      "3                   1        No  \n",
      "4                   2        No  \n",
      "\n",
      "Valores nulos:\n",
      " College_ID                0\n",
      "IQ                        0\n",
      "Prev_Sem_Result           0\n",
      "CGPA                      0\n",
      "Academic_Performance      0\n",
      "Internship_Experience     0\n",
      "Extra_Curricular_Score    0\n",
      "Communication_Skills      0\n",
      "Projects_Completed        0\n",
      "Placement                 0\n",
      "dtype: int64\n",
      "\n",
      "Duplicados: 0\n",
      "Archivo limpio exportado como students_clean.csv\n"
     ]
    },
    {
     "name": "stderr",
     "output_type": "stream",
     "text": [
      "<>:4: SyntaxWarning: invalid escape sequence '\\P'\n",
      "<>:4: SyntaxWarning: invalid escape sequence '\\P'\n",
      "C:\\Users\\XCORP\\AppData\\Local\\Temp\\ipykernel_10500\\399505832.py:4: SyntaxWarning: invalid escape sequence '\\P'\n",
      "  df = pd.read_csv(\"C:\\ProyectAnalisis2025A\\extract\\college_student_placement_dataset.csv\")\n",
      "C:\\Users\\XCORP\\AppData\\Local\\Temp\\ipykernel_10500\\399505832.py:20: FutureWarning: A value is trying to be set on a copy of a DataFrame or Series through chained assignment using an inplace method.\n",
      "The behavior will change in pandas 3.0. This inplace method will never work because the intermediate object on which we are setting values always behaves as a copy.\n",
      "\n",
      "For example, when doing 'df[col].method(value, inplace=True)', try using 'df.method({col: value}, inplace=True)' or df[col] = df[col].method(value) instead, to perform the operation inplace on the original object.\n",
      "\n",
      "\n",
      "  df[col].fillna(0, inplace=True)\n",
      "C:\\Users\\XCORP\\AppData\\Local\\Temp\\ipykernel_10500\\399505832.py:23: FutureWarning: A value is trying to be set on a copy of a DataFrame or Series through chained assignment using an inplace method.\n",
      "The behavior will change in pandas 3.0. This inplace method will never work because the intermediate object on which we are setting values always behaves as a copy.\n",
      "\n",
      "For example, when doing 'df[col].method(value, inplace=True)', try using 'df.method({col: value}, inplace=True)' or df[col] = df[col].method(value) instead, to perform the operation inplace on the original object.\n",
      "\n",
      "\n",
      "  df[col].fillna(\"Desconocido\", inplace=True)\n"
     ]
    }
   ],
   "source": [
    "import pandas as pd\n",
    "\n",
    "# 1. Cargar el dataset\n",
    "df = pd.read_csv(\"C:\\ProyectAnalisis2025A\\extract\\college_student_placement_dataset.csv\")  \n",
    "\n",
    "# 2. Rwevisamos la estructura del dataset\n",
    "print(\"Columnas:\", df.columns.tolist())\n",
    "print(\"Primeras filas:\\n\", df.head())\n",
    "print(\"\\nValores nulos:\\n\", df.isnull().sum())\n",
    "print(\"\\nDuplicados:\", df.duplicated().sum())\n",
    "\n",
    "# 3. Renombramos las columnas (evitar espacios o caracteres especiales)\n",
    "df.columns = [col.strip().replace(\" \", \"_\").replace(\"'\", \"\").lower() for col in df.columns]\n",
    "\n",
    "# 4. Eliminamos duplicados de la data\n",
    "df.drop_duplicates(inplace=True)\n",
    "\n",
    "# 5. Manejar valores nulos (ejemplo: rellenar numéricos con 0, categóricos con 'Desconocido')\n",
    "for col in df.select_dtypes(include=[\"float64\", \"int64\"]):\n",
    "    df[col].fillna(0, inplace=True)\n",
    "\n",
    "for col in df.select_dtypes(include=[\"object\"]):\n",
    "    df[col].fillna(\"Desconocido\", inplace=True)\n",
    "\n",
    "# 6. Exportar CSV limpio\n",
    "df.to_csv(\"collage_studients_placement_clean.csv\", index=False)\n",
    "print(\"Archivo limpio exportado como students_clean.csv\")"
   ]
  },
  {
   "cell_type": "code",
   "execution_count": 3,
   "id": "db49ffa5",
   "metadata": {},
   "outputs": [
    {
     "name": "stdout",
     "output_type": "stream",
     "text": [
      "Cantidad de datos (filas) en data_clean.csv: 10000\n"
     ]
    },
    {
     "name": "stderr",
     "output_type": "stream",
     "text": [
      "<>:4: SyntaxWarning: invalid escape sequence '\\P'\n",
      "<>:4: SyntaxWarning: invalid escape sequence '\\P'\n",
      "C:\\Users\\XCORP\\AppData\\Local\\Temp\\ipykernel_10500\\2277176319.py:4: SyntaxWarning: invalid escape sequence '\\P'\n",
      "  df_limpio = pd.read_csv('C:\\ProyectAnalisis2025A\\extract\\college_student_placement_dataset.csv', encoding='utf-8')\n"
     ]
    }
   ],
   "source": [
    "import pandas as pd\n",
    "\n",
    "# Cargar el archivo CSV limpio\n",
    "df_limpio = pd.read_csv('C:\\ProyectAnalisis2025A\\extract\\college_student_placement_dataset.csv', encoding='utf-8')\n",
    "\n",
    "# Contar la cantidad de filas\n",
    "cantidad_filas = df_limpio.shape[0]\n",
    "print(f\"Cantidad de datos (filas) en data_clean.csv: {cantidad_filas}\")"
   ]
  }
 ],
 "metadata": {
  "kernelspec": {
   "display_name": "Python 3",
   "language": "python",
   "name": "python3"
  },
  "language_info": {
   "codemirror_mode": {
    "name": "ipython",
    "version": 3
   },
   "file_extension": ".py",
   "mimetype": "text/x-python",
   "name": "python",
   "nbconvert_exporter": "python",
   "pygments_lexer": "ipython3",
   "version": "3.13.3"
  }
 },
 "nbformat": 4,
 "nbformat_minor": 5
}
