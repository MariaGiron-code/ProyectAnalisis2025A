{
 "cells": [
  {
   "cell_type": "code",
   "execution_count": 1,
   "id": "eeb52eec",
   "metadata": {},
   "outputs": [],
   "source": [
    "import pandas as pd"
   ]
  },
  {
   "cell_type": "code",
   "execution_count": 5,
   "id": "fcfff7d4",
   "metadata": {},
   "outputs": [
    {
     "name": "stdout",
     "output_type": "stream",
     "text": [
      "Filas originales:  50000\n",
      "Columnas originales:  4\n"
     ]
    },
    {
     "data": {
      "text/html": [
       "<div>\n",
       "<style scoped>\n",
       "    .dataframe tbody tr th:only-of-type {\n",
       "        vertical-align: middle;\n",
       "    }\n",
       "\n",
       "    .dataframe tbody tr th {\n",
       "        vertical-align: top;\n",
       "    }\n",
       "\n",
       "    .dataframe thead th {\n",
       "        text-align: right;\n",
       "    }\n",
       "</style>\n",
       "<table border=\"1\" class=\"dataframe\">\n",
       "  <thead>\n",
       "    <tr style=\"text-align: right;\">\n",
       "      <th></th>\n",
       "      <th>User ID</th>\n",
       "      <th>Page</th>\n",
       "      <th>Action</th>\n",
       "      <th>Timestamp</th>\n",
       "    </tr>\n",
       "  </thead>\n",
       "  <tbody>\n",
       "    <tr>\n",
       "      <th>0</th>\n",
       "      <td>5022</td>\n",
       "      <td>Product Page</td>\n",
       "      <td>View</td>\n",
       "      <td>2016-04-13 18:09:27</td>\n",
       "    </tr>\n",
       "    <tr>\n",
       "      <th>1</th>\n",
       "      <td>8751</td>\n",
       "      <td>Cart</td>\n",
       "      <td>Add to Cart</td>\n",
       "      <td>2024-02-09 18:09:27</td>\n",
       "    </tr>\n",
       "    <tr>\n",
       "      <th>2</th>\n",
       "      <td>1666</td>\n",
       "      <td>Product Page</td>\n",
       "      <td>Purchase</td>\n",
       "      <td>2021-04-14 18:09:27</td>\n",
       "    </tr>\n",
       "    <tr>\n",
       "      <th>3</th>\n",
       "      <td>1882</td>\n",
       "      <td>Checkout</td>\n",
       "      <td>View</td>\n",
       "      <td>2023-08-26 18:09:27</td>\n",
       "    </tr>\n",
       "    <tr>\n",
       "      <th>4</th>\n",
       "      <td>3872</td>\n",
       "      <td>Cart</td>\n",
       "      <td>Add to Cart</td>\n",
       "      <td>2017-02-21 18:09:27</td>\n",
       "    </tr>\n",
       "  </tbody>\n",
       "</table>\n",
       "</div>"
      ],
      "text/plain": [
       "   User ID          Page       Action            Timestamp\n",
       "0     5022  Product Page         View  2016-04-13 18:09:27\n",
       "1     8751          Cart  Add to Cart  2024-02-09 18:09:27\n",
       "2     1666  Product Page     Purchase  2021-04-14 18:09:27\n",
       "3     1882      Checkout         View  2023-08-26 18:09:27\n",
       "4     3872          Cart  Add to Cart  2017-02-21 18:09:27"
      ]
     },
     "execution_count": 5,
     "metadata": {},
     "output_type": "execute_result"
    }
   ],
   "source": [
    "# DEFINICION DE RUTA DEL ARCHIVO\n",
    "ruta = 'C:/ProyectAnalisis2025A/extract/Actividades_Hobbies.csv'\n",
    "df = pd.read_csv(ruta)\n",
    "# DIMENSIONES DEL DATAFRAME\n",
    "print(\"Filas originales: \", df.shape[0])\n",
    "print(\"Columnas originales: \", df.shape[1])\n",
    "# VISUALIZACION DE LOS DATOS\n",
    "df.head()"
   ]
  },
  {
   "cell_type": "code",
   "execution_count": null,
   "id": "a2fb370b",
   "metadata": {},
   "outputs": [
    {
     "name": "stdout",
     "output_type": "stream",
     "text": [
      "Fechas convertidas correctamente.    User ID          Page       Action           Timestamp\n",
      "0     5022  Product Page         View 2016-04-13 18:09:27\n",
      "1     8751          Cart  Add to Cart 2024-02-09 18:09:27\n",
      "2     1666  Product Page     Purchase 2021-04-14 18:09:27\n",
      "3     1882      Checkout         View 2023-08-26 18:09:27\n",
      "4     3872          Cart  Add to Cart 2017-02-21 18:09:27\n",
      "User ID      0\n",
      "Page         0\n",
      "Action       0\n",
      "Timestamp    0\n",
      "dtype: int64\n"
     ]
    }
   ],
   "source": [
    "# ELIMAR COLUMNAS CON DATOS NULOS \n",
    "df = df.loc[:, df.isnull().mean() < 0.5]\n",
    "df = df.drop_duplicates()\n",
    "# CONVERTIR DATOS \n",
    "df['Timestamp'] = pd.to_datetime(df['Timestamp'], errors='coerce')\n",
    "print(df.isnull().sum())"
   ]
  },
  {
   "cell_type": "code",
   "execution_count": 14,
   "id": "b6a820a8",
   "metadata": {},
   "outputs": [
    {
     "name": "stdout",
     "output_type": "stream",
     "text": [
      "Datos transformados y guardados en: C:/ProyectAnalisis2025A/extract/Actividades_clean.csv\n",
      "Filas en el archivo guardado: 49999\n"
     ]
    },
    {
     "data": {
      "text/html": [
       "<div>\n",
       "<style scoped>\n",
       "    .dataframe tbody tr th:only-of-type {\n",
       "        vertical-align: middle;\n",
       "    }\n",
       "\n",
       "    .dataframe tbody tr th {\n",
       "        vertical-align: top;\n",
       "    }\n",
       "\n",
       "    .dataframe thead th {\n",
       "        text-align: right;\n",
       "    }\n",
       "</style>\n",
       "<table border=\"1\" class=\"dataframe\">\n",
       "  <thead>\n",
       "    <tr style=\"text-align: right;\">\n",
       "      <th></th>\n",
       "      <th>User ID</th>\n",
       "      <th>Page</th>\n",
       "      <th>Action</th>\n",
       "      <th>Timestamp</th>\n",
       "    </tr>\n",
       "  </thead>\n",
       "  <tbody>\n",
       "    <tr>\n",
       "      <th>0</th>\n",
       "      <td>5022</td>\n",
       "      <td>Product Page</td>\n",
       "      <td>View</td>\n",
       "      <td>2016-04-13 18:09:27</td>\n",
       "    </tr>\n",
       "    <tr>\n",
       "      <th>1</th>\n",
       "      <td>8751</td>\n",
       "      <td>Cart</td>\n",
       "      <td>Add to Cart</td>\n",
       "      <td>2024-02-09 18:09:27</td>\n",
       "    </tr>\n",
       "    <tr>\n",
       "      <th>2</th>\n",
       "      <td>1666</td>\n",
       "      <td>Product Page</td>\n",
       "      <td>Purchase</td>\n",
       "      <td>2021-04-14 18:09:27</td>\n",
       "    </tr>\n",
       "    <tr>\n",
       "      <th>3</th>\n",
       "      <td>1882</td>\n",
       "      <td>Checkout</td>\n",
       "      <td>View</td>\n",
       "      <td>2023-08-26 18:09:27</td>\n",
       "    </tr>\n",
       "    <tr>\n",
       "      <th>4</th>\n",
       "      <td>3872</td>\n",
       "      <td>Cart</td>\n",
       "      <td>Add to Cart</td>\n",
       "      <td>2017-02-21 18:09:27</td>\n",
       "    </tr>\n",
       "  </tbody>\n",
       "</table>\n",
       "</div>"
      ],
      "text/plain": [
       "   User ID          Page       Action            Timestamp\n",
       "0     5022  Product Page         View  2016-04-13 18:09:27\n",
       "1     8751          Cart  Add to Cart  2024-02-09 18:09:27\n",
       "2     1666  Product Page     Purchase  2021-04-14 18:09:27\n",
       "3     1882      Checkout         View  2023-08-26 18:09:27\n",
       "4     3872          Cart  Add to Cart  2017-02-21 18:09:27"
      ]
     },
     "execution_count": 14,
     "metadata": {},
     "output_type": "execute_result"
    }
   ],
   "source": [
    "#GUARDAR DATAFRAME LIMPIO\n",
    "ruta_destino = 'C:/ProyectAnalisis2025A/extract/Actividades_clean.csv'\n",
    "df.to_csv(ruta_destino, index=False, encoding='utf-8-sig')\n",
    "print(\"Datos transformados y guardados en:\", ruta_destino)\n",
    "df_verificacion = pd.read_csv(ruta_destino)\n",
    "print(\"Filas en el archivo guardado:\", len(df_verificacion))\n",
    "df_verificacion.head()"
   ]
  },
  {
   "cell_type": "code",
   "execution_count": null,
   "id": "b8546b59",
   "metadata": {},
   "outputs": [],
   "source": []
  }
 ],
 "metadata": {
  "kernelspec": {
   "display_name": "Python 3",
   "language": "python",
   "name": "python3"
  },
  "language_info": {
   "codemirror_mode": {
    "name": "ipython",
    "version": 3
   },
   "file_extension": ".py",
   "mimetype": "text/x-python",
   "name": "python",
   "nbconvert_exporter": "python",
   "pygments_lexer": "ipython3",
   "version": "3.13.5"
  }
 },
 "nbformat": 4,
 "nbformat_minor": 5
}
