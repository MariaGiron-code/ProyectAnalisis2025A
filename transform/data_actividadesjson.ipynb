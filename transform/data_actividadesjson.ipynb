{
 "cells": [
  {
   "cell_type": "code",
   "execution_count": 1,
   "id": "1addd5d7",
   "metadata": {},
   "outputs": [],
   "source": [
    "import pandas as pd\n",
    "import json"
   ]
  },
  {
   "cell_type": "code",
   "execution_count": 2,
   "id": "4e508ba8",
   "metadata": {},
   "outputs": [
    {
     "name": "stdout",
     "output_type": "stream",
     "text": [
      "Dimensiones del DataFrame: (32000, 4)\n"
     ]
    },
    {
     "data": {
      "text/html": [
       "<div>\n",
       "<style scoped>\n",
       "    .dataframe tbody tr th:only-of-type {\n",
       "        vertical-align: middle;\n",
       "    }\n",
       "\n",
       "    .dataframe tbody tr th {\n",
       "        vertical-align: top;\n",
       "    }\n",
       "\n",
       "    .dataframe thead th {\n",
       "        text-align: right;\n",
       "    }\n",
       "</style>\n",
       "<table border=\"1\" class=\"dataframe\">\n",
       "  <thead>\n",
       "    <tr style=\"text-align: right;\">\n",
       "      <th></th>\n",
       "      <th>activity</th>\n",
       "      <th>type</th>\n",
       "      <th>participants</th>\n",
       "      <th>price</th>\n",
       "    </tr>\n",
       "  </thead>\n",
       "  <tbody>\n",
       "    <tr>\n",
       "      <th>0</th>\n",
       "      <td>Meditate for five minutes</td>\n",
       "      <td>relaxation</td>\n",
       "      <td>1</td>\n",
       "      <td>0.0</td>\n",
       "    </tr>\n",
       "    <tr>\n",
       "      <th>1</th>\n",
       "      <td>Uninstall unused apps from your devices</td>\n",
       "      <td>busywork</td>\n",
       "      <td>1</td>\n",
       "      <td>0.0</td>\n",
       "    </tr>\n",
       "    <tr>\n",
       "      <th>2</th>\n",
       "      <td>Learn to greet someone in a new language</td>\n",
       "      <td>education</td>\n",
       "      <td>1</td>\n",
       "      <td>0.1</td>\n",
       "    </tr>\n",
       "    <tr>\n",
       "      <th>3</th>\n",
       "      <td>Go on a long drive with no music</td>\n",
       "      <td>relaxation</td>\n",
       "      <td>1</td>\n",
       "      <td>0.1</td>\n",
       "    </tr>\n",
       "    <tr>\n",
       "      <th>4</th>\n",
       "      <td>Sit in the dark and listen to your favorite mu...</td>\n",
       "      <td>relaxation</td>\n",
       "      <td>1</td>\n",
       "      <td>0.0</td>\n",
       "    </tr>\n",
       "  </tbody>\n",
       "</table>\n",
       "</div>"
      ],
      "text/plain": [
       "                                            activity        type  \\\n",
       "0                          Meditate for five minutes  relaxation   \n",
       "1            Uninstall unused apps from your devices    busywork   \n",
       "2           Learn to greet someone in a new language   education   \n",
       "3                   Go on a long drive with no music  relaxation   \n",
       "4  Sit in the dark and listen to your favorite mu...  relaxation   \n",
       "\n",
       "   participants  price  \n",
       "0             1    0.0  \n",
       "1             1    0.0  \n",
       "2             1    0.1  \n",
       "3             1    0.1  \n",
       "4             1    0.0  "
      ]
     },
     "execution_count": 2,
     "metadata": {},
     "output_type": "execute_result"
    }
   ],
   "source": [
    "# RUTA DEL ARCHIVO JSON\n",
    "ruta = 'C:/ProyectAnalisis2025A/extract/activity.json'\n",
    "df = pd.read_json(ruta, lines=True)\n",
    "print(\"Dimensiones del DataFrame:\", df.shape)\n",
    "df.head()"
   ]
  },
  {
   "cell_type": "code",
   "execution_count": 3,
   "id": "882a5ee8",
   "metadata": {},
   "outputs": [
    {
     "name": "stdout",
     "output_type": "stream",
     "text": [
      "activity        0\n",
      "type            0\n",
      "participants    0\n",
      "price           0\n",
      "dtype: int64\n",
      "activity         object\n",
      "type             object\n",
      "participants      int64\n",
      "price           float64\n",
      "dtype: object\n"
     ]
    }
   ],
   "source": [
    "# LIMPIEZA DE DATOS\n",
    "print(df.isnull().sum())\n",
    "df['price'] = pd.to_numeric(df['price'], errors='coerce')\n",
    "df = df.dropna(subset=['activity', 'type', 'participants'])\n",
    "print(df.dtypes)"
   ]
  },
  {
   "cell_type": "code",
   "execution_count": 5,
   "id": "9e891b48",
   "metadata": {},
   "outputs": [
    {
     "name": "stdout",
     "output_type": "stream",
     "text": [
      "Datos transformados y guardados en: C:/ProyectAnalisis2025A/extract/activity_clean.csv\n",
      "Filas en el archivo guardado: 32000\n"
     ]
    },
    {
     "data": {
      "text/html": [
       "<div>\n",
       "<style scoped>\n",
       "    .dataframe tbody tr th:only-of-type {\n",
       "        vertical-align: middle;\n",
       "    }\n",
       "\n",
       "    .dataframe tbody tr th {\n",
       "        vertical-align: top;\n",
       "    }\n",
       "\n",
       "    .dataframe thead th {\n",
       "        text-align: right;\n",
       "    }\n",
       "</style>\n",
       "<table border=\"1\" class=\"dataframe\">\n",
       "  <thead>\n",
       "    <tr style=\"text-align: right;\">\n",
       "      <th></th>\n",
       "      <th>activity</th>\n",
       "      <th>type</th>\n",
       "      <th>participants</th>\n",
       "      <th>price</th>\n",
       "    </tr>\n",
       "  </thead>\n",
       "  <tbody>\n",
       "    <tr>\n",
       "      <th>0</th>\n",
       "      <td>Meditate for five minutes</td>\n",
       "      <td>relaxation</td>\n",
       "      <td>1</td>\n",
       "      <td>0.0</td>\n",
       "    </tr>\n",
       "    <tr>\n",
       "      <th>1</th>\n",
       "      <td>Uninstall unused apps from your devices</td>\n",
       "      <td>busywork</td>\n",
       "      <td>1</td>\n",
       "      <td>0.0</td>\n",
       "    </tr>\n",
       "    <tr>\n",
       "      <th>2</th>\n",
       "      <td>Learn to greet someone in a new language</td>\n",
       "      <td>education</td>\n",
       "      <td>1</td>\n",
       "      <td>0.1</td>\n",
       "    </tr>\n",
       "    <tr>\n",
       "      <th>3</th>\n",
       "      <td>Go on a long drive with no music</td>\n",
       "      <td>relaxation</td>\n",
       "      <td>1</td>\n",
       "      <td>0.1</td>\n",
       "    </tr>\n",
       "    <tr>\n",
       "      <th>4</th>\n",
       "      <td>Sit in the dark and listen to your favorite mu...</td>\n",
       "      <td>relaxation</td>\n",
       "      <td>1</td>\n",
       "      <td>0.0</td>\n",
       "    </tr>\n",
       "  </tbody>\n",
       "</table>\n",
       "</div>"
      ],
      "text/plain": [
       "                                            activity        type  \\\n",
       "0                          Meditate for five minutes  relaxation   \n",
       "1            Uninstall unused apps from your devices    busywork   \n",
       "2           Learn to greet someone in a new language   education   \n",
       "3                   Go on a long drive with no music  relaxation   \n",
       "4  Sit in the dark and listen to your favorite mu...  relaxation   \n",
       "\n",
       "   participants  price  \n",
       "0             1    0.0  \n",
       "1             1    0.0  \n",
       "2             1    0.1  \n",
       "3             1    0.1  \n",
       "4             1    0.0  "
      ]
     },
     "execution_count": 5,
     "metadata": {},
     "output_type": "execute_result"
    }
   ],
   "source": [
    "#GUARDAR DATAFRAME LIMPIO\n",
    "ruta_destino = 'C:/ProyectAnalisis2025A/extract/activity_clean.csv'\n",
    "df.to_csv(ruta_destino, index=False, encoding='utf-8-sig')\n",
    "print(\"Datos transformados y guardados en:\", ruta_destino)\n",
    "df_verificacion = pd.read_csv(ruta_destino)\n",
    "print(\"Filas en el archivo guardado:\", len(df_verificacion))\n",
    "df_verificacion.head()\n"
   ]
  },
  {
   "cell_type": "code",
   "execution_count": null,
   "id": "86dff706",
   "metadata": {},
   "outputs": [],
   "source": []
  }
 ],
 "metadata": {
  "kernelspec": {
   "display_name": "Python 3",
   "language": "python",
   "name": "python3"
  },
  "language_info": {
   "codemirror_mode": {
    "name": "ipython",
    "version": 3
   },
   "file_extension": ".py",
   "mimetype": "text/x-python",
   "name": "python",
   "nbconvert_exporter": "python",
   "pygments_lexer": "ipython3",
   "version": "3.13.5"
  }
 },
 "nbformat": 4,
 "nbformat_minor": 5
}
